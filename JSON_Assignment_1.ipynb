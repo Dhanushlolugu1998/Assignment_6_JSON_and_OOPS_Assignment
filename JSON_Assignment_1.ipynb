{
 "cells": [
  {
   "cell_type": "code",
   "execution_count": 3,
   "id": "091ad398",
   "metadata": {},
   "outputs": [
    {
     "name": "stdout",
     "output_type": "stream",
     "text": [
      "Name: John Doe\n",
      "DOB: 1990-05-15\n",
      "Height: 175\n",
      "City: New York\n",
      "State: NY\n",
      "\n",
      "Name: Jane Smith\n",
      "DOB: 1985-08-22\n",
      "Height: 162\n",
      "City: Los Angeles\n",
      "State: CA\n",
      "\n",
      "Name: Robert Johnson\n",
      "DOB: 1988-12-10\n",
      "Height: 180\n",
      "City: Chicago\n",
      "State: IL\n",
      "\n",
      "Name: Emily Brown\n",
      "DOB: 1992-04-03\n",
      "Height: 168\n",
      "City: Houston\n",
      "State: TX\n",
      "\n",
      "Name: Michael Wilson\n",
      "DOB: 1987-07-28\n",
      "Height: 173\n",
      "City: Miami\n",
      "State: FL\n",
      "\n",
      "State-Capital Dictionary:\n",
      "Delhi: New Delhi\n",
      "Maharashtra: Mumbai\n",
      "Tamil Nadu: Chennai\n",
      "Karnataka: Bengaluru\n",
      "West Bengal: Kolkata\n",
      "Rajasthan: Jaipur\n",
      "Gujarat: Gandhinagar\n"
     ]
    }
   ],
   "source": [
    "import json\n",
    "\n",
    "class Employee:\n",
    "    def __init__(self, name, dob, height, city, state):\n",
    "        self.name = name\n",
    "        self.dob = dob\n",
    "        self.height = height\n",
    "        self.city = city\n",
    "        self.state = state\n",
    "with open(\"employee.json\", \"r\") as json_file:\n",
    "    employees_data = json.load(json_file)\n",
    "employees = []\n",
    "for employee_data in employees_data:\n",
    "    employee = Employee(\n",
    "       employee_data[\"Name\"],\n",
    "       employee_data[\"DOB\"],\n",
    "       employee_data[\"Height\"],\n",
    "       employee_data[\"City\"],\n",
    "       employee_data[\"State\"]\n",
    "   )\n",
    "    employees.append(employee)\n",
    "\n",
    "for employee in employees:\n",
    "    print(\"Name:\", employee.name)\n",
    "    print(\"DOB:\", employee.dob)\n",
    "    print(\"Height:\", employee.height)\n",
    "    print(\"City:\", employee.city)\n",
    "    print(\"State:\", employee.state)\n",
    "    print()\n",
    "\n",
    "with open(\"State-Capital.json\", \"r\") as json_file:\n",
    "    state_capital_dict = json.load(json_file)\n",
    "    print(\"State-Capital Dictionary:\")\n",
    "\n",
    "for state, capital in state_capital_dict.items():\n",
    "    print(f\"{state}: {capital}\")"
   ]
  },
  {
   "cell_type": "code",
   "execution_count": null,
   "id": "019ad92f",
   "metadata": {},
   "outputs": [],
   "source": []
  }
 ],
 "metadata": {
  "kernelspec": {
   "display_name": "Python 3 (ipykernel)",
   "language": "python",
   "name": "python3"
  },
  "language_info": {
   "codemirror_mode": {
    "name": "ipython",
    "version": 3
   },
   "file_extension": ".py",
   "mimetype": "text/x-python",
   "name": "python",
   "nbconvert_exporter": "python",
   "pygments_lexer": "ipython3",
   "version": "3.10.9"
  }
 },
 "nbformat": 4,
 "nbformat_minor": 5
}
