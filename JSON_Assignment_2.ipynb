{
 "cells": [
  {
   "cell_type": "code",
   "execution_count": 2,
   "id": "a4d11e0e",
   "metadata": {},
   "outputs": [
    {
     "name": "stdout",
     "output_type": "stream",
     "text": [
      "Name: Buddy, Age: 2\n",
      "Coat Color: White\n",
      "Buddy has a special skill: High Jump\n",
      "Name: Max, Age: 4\n",
      "Coat Color: Brown\n",
      "Max's weight is 28 kg\n"
     ]
    }
   ],
   "source": [
    "#1. Create a class named ‘Dog’. It should have a constructor which accepts its name, age and coat color. You must perform the following operations:\n",
    "\n",
    "# 🔴 a. It should have a function ‘description()’ which prints the name and age of the dog.\n",
    "# 🔴 b. It should have a function ‘get_info()’ which prints the coat color of the dog.\n",
    "# 🔴 c. Create child classes ‘JackRussellTerrier’ and ‘Bulldog’ which is inherited from the class ‘Dog’. It should have at least two methods of its own.\n",
    "# 🔴 d. Create objects and implement the above functionalities.\n",
    "\n",
    "class Dog:\n",
    "    def __init__(self, name, age, coat_color):\n",
    "        self.name = name\n",
    "        self.age = age\n",
    "        self.coat_color = coat_color\n",
    "\n",
    "    def description(self):\n",
    "        print(f\"Name: {self.name}, Age: {self.age}\")\n",
    "\n",
    "    def get_info(self):\n",
    "        print(f\"Coat Color: {self.coat_color}\")\n",
    "\n",
    "class JackRussellTerrier(Dog):\n",
    "    def __init__(self, name, age, coat_color, special_skill):\n",
    "        super().__init__(name, age, coat_color)\n",
    "        self.special_skill = special_skill\n",
    "\n",
    "    def unique_skill(self):\n",
    "        print(f\"{self.name} has a special skill: {self.special_skill}\")\n",
    "\n",
    "class Bulldog(Dog):\n",
    "    def __init__(self, name, age, coat_color, weight):\n",
    "        super().__init__(name, age, coat_color)\n",
    "        self.weight = weight\n",
    "\n",
    "    def display_weight(self):\n",
    "        print(f\"{self.name}'s weight is {self.weight} kg\")\n",
    "\n",
    "dog1 = JackRussellTerrier(\"Buddy\", 2, \"White\", \"High Jump\")\n",
    "dog2 = Bulldog(\"Max\", 4, \"Brown\", 28)\n",
    "\n",
    "dog1.description()  \n",
    "dog1.get_info()     \n",
    "dog1.unique_skill() \n",
    "\n",
    "dog2.description()  \n",
    "dog2.get_info()     \n",
    "dog2.display_weight() "
   ]
  },
  {
   "cell_type": "code",
   "execution_count": null,
   "id": "8f9d9089",
   "metadata": {},
   "outputs": [],
   "source": []
  }
 ],
 "metadata": {
  "kernelspec": {
   "display_name": "Python 3 (ipykernel)",
   "language": "python",
   "name": "python3"
  },
  "language_info": {
   "codemirror_mode": {
    "name": "ipython",
    "version": 3
   },
   "file_extension": ".py",
   "mimetype": "text/x-python",
   "name": "python",
   "nbconvert_exporter": "python",
   "pygments_lexer": "ipython3",
   "version": "3.10.9"
  }
 },
 "nbformat": 4,
 "nbformat_minor": 5
}
